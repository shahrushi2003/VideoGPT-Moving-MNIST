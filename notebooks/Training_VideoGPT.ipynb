{
 "cells": [
  {
   "cell_type": "markdown",
   "metadata": {},
   "source": [
    "# Cloning"
   ]
  },
  {
   "cell_type": "code",
   "execution_count": null,
   "metadata": {},
   "outputs": [],
   "source": [
    "!git clone https://github.com/shahrushi2003/VideoGPT-Moving-MNIST.git\n",
    "!git clone https://github.com/997ddler/Soft-discretization.git\n",
    "!bash /content/VideoGPT-Moving-MNIST/Makefile\n",
    "%cd /content/VideoGPT-Moving-MNIST/"
   ]
  },
  {
   "cell_type": "code",
   "execution_count": null,
   "metadata": {},
   "outputs": [],
   "source": [
    "!pip install -e .\n",
    "!pip install wandb\n",
    "!pip install torchinfo\n",
    "!pip install string-color"
   ]
  },
  {
   "cell_type": "markdown",
   "metadata": {},
   "source": [
    "# Dataset Preprocessing"
   ]
  },
  {
   "cell_type": "code",
   "execution_count": null,
   "metadata": {},
   "outputs": [],
   "source": [
    "!python scripts/create_moving_mnist_hdf5_dataset.py"
   ]
  },
  {
   "cell_type": "markdown",
   "metadata": {},
   "source": [
    "# Training the VQVAE"
   ]
  },
  {
   "cell_type": "code",
   "execution_count": null,
   "metadata": {},
   "outputs": [],
   "source": [
    "!python3 scripts/train_vqvae.py --embedding_dim 64 --n_codes 512 --n_hiddens 240 --n_res_layers 2 --downsample 4 4 4 --gpus 1 --num_workers 2 --batch_size 32 --data_path ../datasets/moving_mnist.h5 --resolution 64 --sequence_length 16"
   ]
  },
  {
   "cell_type": "markdown",
   "metadata": {},
   "source": [
    "# Training the VideoGPT"
   ]
  },
  {
   "cell_type": "code",
   "execution_count": null,
   "metadata": {},
   "outputs": [],
   "source": [
    "!python3 scripts/train_videogpt.py --vqvae [CHECKPOINT_PATH] --n_cond_frames 1 --hidden_dim 192 --heads 4 --layers 8 --dropout 0.1 --attn_dropout 0.1 --gpus 1 --gradient_clip_val 1 --batch_size 32 --num_workers 2 --amp_level O1 --precision 16 --data_path ../datasets/moving_mnist.h5 --resolution 64 --sequence_length 16 --max_steps 6000"
   ]
  },
  {
   "cell_type": "markdown",
   "metadata": {},
   "source": [
    "# Sampling"
   ]
  },
  {
   "cell_type": "code",
   "execution_count": null,
   "metadata": {},
   "outputs": [],
   "source": [
    "!pip install scikit-video av\n",
    "!pip install --upgrade --no-cache-dir gdown"
   ]
  },
  {
   "cell_type": "code",
   "execution_count": null,
   "metadata": {},
   "outputs": [],
   "source": [
    "!python3 scripts/sample_videogpt.py --ckpt /content/VideoGPT-Moving-MNIST/moving_mnist_videogpt/5gsc5sks/checkpoints/epoch=2-step=891.ckpt --n 9"
   ]
  },
  {
   "cell_type": "markdown",
   "metadata": {},
   "source": [
    "# Computing FVD"
   ]
  },
  {
   "cell_type": "code",
   "execution_count": null,
   "metadata": {},
   "outputs": [],
   "source": [
    "!python scripts/compute_fvd.py --ckpt [VideoGPT CHECKPOINT PATH]"
   ]
  }
 ],
 "metadata": {
  "language_info": {
   "name": "python"
  }
 },
 "nbformat": 4,
 "nbformat_minor": 2
}
